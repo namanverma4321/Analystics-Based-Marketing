{
  "cells": [
    {
      "cell_type": "markdown",
      "metadata": {
        "id": "view-in-github",
        "colab_type": "text"
      },
      "source": [
        "<a href=\"https://colab.research.google.com/github/namanverma4321/Analystics-Based-Marketing/blob/main/Predictor_Marketing.ipynb\" target=\"_parent\"><img src=\"https://colab.research.google.com/assets/colab-badge.svg\" alt=\"Open In Colab\"/></a>"
      ]
    },
    {
      "cell_type": "code",
      "source": [
        "from google.colab import drive\n",
        "drive.mount('/content/drive')\n",
        "%cd /content/drive/MyDrive/Analytics based marketing/"
      ],
      "metadata": {
        "colab": {
          "base_uri": "https://localhost:8080/"
        },
        "id": "JXpJir2cwjEZ",
        "outputId": "e9cbbb60-ae3c-4cc2-ce9b-a65876794cdd"
      },
      "execution_count": 1,
      "outputs": [
        {
          "output_type": "stream",
          "name": "stdout",
          "text": [
            "Mounted at /content/drive\n",
            "/content/drive/MyDrive/Analytics based marketing\n"
          ]
        }
      ]
    },
    {
      "cell_type": "markdown",
      "metadata": {
        "id": "W4cK8eIFUUbZ"
      },
      "source": [
        "### Importing data"
      ]
    },
    {
      "cell_type": "code",
      "execution_count": 2,
      "metadata": {
        "id": "mEkybjycJBXY"
      },
      "outputs": [],
      "source": [
        "import pandas as pd\n",
        "import numpy as np\n",
        "\n",
        "from sklearn.model_selection import train_test_split\n",
        "from sklearn.preprocessing import StandardScaler\n",
        "\n",
        "from sklearn.metrics import classification_report, confusion_matrix, accuracy_score, recall_score\n",
        "from sklearn.linear_model import LogisticRegression"
      ]
    },
    {
      "cell_type": "code",
      "execution_count": 4,
      "metadata": {
        "id": "JsdviH_EXjAm"
      },
      "outputs": [],
      "source": [
        "dataset=pd.read_excel(\"Dataset_tochange.xlsx\")\n"
      ]
    },
    {
      "cell_type": "code",
      "execution_count": 5,
      "metadata": {
        "colab": {
          "base_uri": "https://localhost:8080/"
        },
        "id": "t3lhQYpuZO8X",
        "outputId": "31f62b59-c973-4a47-9c87-4c4a51970317"
      },
      "outputs": [
        {
          "output_type": "execute_result",
          "data": {
            "text/plain": [
              "(999, 10)"
            ]
          },
          "metadata": {},
          "execution_count": 5
        }
      ],
      "source": [
        "#shows first few rows of the code\n",
        "dataset.shape"
      ]
    },
    {
      "cell_type": "code",
      "source": [
        "dataset.head(10)"
      ],
      "metadata": {
        "colab": {
          "base_uri": "https://localhost:8080/",
          "height": 363
        },
        "id": "5faSmH9IxAds",
        "outputId": "670f980a-7f41-4774-a74c-aa049ebc741f"
      },
      "execution_count": 6,
      "outputs": [
        {
          "output_type": "execute_result",
          "data": {
            "text/plain": [
              "     ID  DemAffl  DemAge DemClusterGroup DemGender    DemReg      DemTVReg  \\\n",
              "0   140     10.0    76.0               C         U  Midlands  Wales & West   \n",
              "1   620      4.0    49.0               D         U  Midlands  Wales & West   \n",
              "2   868      5.0    70.0               D         F  Midlands  Wales & West   \n",
              "3  1120     10.0    65.0               F         M  Midlands      Midlands   \n",
              "4  2313     11.0    68.0               A         F  Midlands      Midlands   \n",
              "5  2771      9.0    72.0               D         U     North        N West   \n",
              "6  3131     11.0    74.0               A         F  Midlands          East   \n",
              "7  3328     13.0    62.0               D         M     North        N East   \n",
              "8  4529     10.0    62.0               F         M  Midlands          East   \n",
              "9  5886     14.0    43.0               F         F       NaN           NaN   \n",
              "\n",
              "  LoyalClass  LoyalSpend  LoyalTime  \n",
              "0       Gold    16000.00        4.0  \n",
              "1       Gold     6000.00        5.0  \n",
              "2     Silver        0.02        8.0  \n",
              "3        Tin        0.01        7.0  \n",
              "4        Tin        0.01        8.0  \n",
              "5   Platinum    20759.81        3.0  \n",
              "6        Tin        0.01        8.0  \n",
              "7        Tin        0.01        5.0  \n",
              "8     Silver     2038.76        3.0  \n",
              "9       Gold     6000.00        1.0  "
            ],
            "text/html": [
              "\n",
              "\n",
              "  <div id=\"df-ee12bd57-1d4b-4823-92f3-7a27745462b8\">\n",
              "    <div class=\"colab-df-container\">\n",
              "      <div>\n",
              "<style scoped>\n",
              "    .dataframe tbody tr th:only-of-type {\n",
              "        vertical-align: middle;\n",
              "    }\n",
              "\n",
              "    .dataframe tbody tr th {\n",
              "        vertical-align: top;\n",
              "    }\n",
              "\n",
              "    .dataframe thead th {\n",
              "        text-align: right;\n",
              "    }\n",
              "</style>\n",
              "<table border=\"1\" class=\"dataframe\">\n",
              "  <thead>\n",
              "    <tr style=\"text-align: right;\">\n",
              "      <th></th>\n",
              "      <th>ID</th>\n",
              "      <th>DemAffl</th>\n",
              "      <th>DemAge</th>\n",
              "      <th>DemClusterGroup</th>\n",
              "      <th>DemGender</th>\n",
              "      <th>DemReg</th>\n",
              "      <th>DemTVReg</th>\n",
              "      <th>LoyalClass</th>\n",
              "      <th>LoyalSpend</th>\n",
              "      <th>LoyalTime</th>\n",
              "    </tr>\n",
              "  </thead>\n",
              "  <tbody>\n",
              "    <tr>\n",
              "      <th>0</th>\n",
              "      <td>140</td>\n",
              "      <td>10.0</td>\n",
              "      <td>76.0</td>\n",
              "      <td>C</td>\n",
              "      <td>U</td>\n",
              "      <td>Midlands</td>\n",
              "      <td>Wales &amp; West</td>\n",
              "      <td>Gold</td>\n",
              "      <td>16000.00</td>\n",
              "      <td>4.0</td>\n",
              "    </tr>\n",
              "    <tr>\n",
              "      <th>1</th>\n",
              "      <td>620</td>\n",
              "      <td>4.0</td>\n",
              "      <td>49.0</td>\n",
              "      <td>D</td>\n",
              "      <td>U</td>\n",
              "      <td>Midlands</td>\n",
              "      <td>Wales &amp; West</td>\n",
              "      <td>Gold</td>\n",
              "      <td>6000.00</td>\n",
              "      <td>5.0</td>\n",
              "    </tr>\n",
              "    <tr>\n",
              "      <th>2</th>\n",
              "      <td>868</td>\n",
              "      <td>5.0</td>\n",
              "      <td>70.0</td>\n",
              "      <td>D</td>\n",
              "      <td>F</td>\n",
              "      <td>Midlands</td>\n",
              "      <td>Wales &amp; West</td>\n",
              "      <td>Silver</td>\n",
              "      <td>0.02</td>\n",
              "      <td>8.0</td>\n",
              "    </tr>\n",
              "    <tr>\n",
              "      <th>3</th>\n",
              "      <td>1120</td>\n",
              "      <td>10.0</td>\n",
              "      <td>65.0</td>\n",
              "      <td>F</td>\n",
              "      <td>M</td>\n",
              "      <td>Midlands</td>\n",
              "      <td>Midlands</td>\n",
              "      <td>Tin</td>\n",
              "      <td>0.01</td>\n",
              "      <td>7.0</td>\n",
              "    </tr>\n",
              "    <tr>\n",
              "      <th>4</th>\n",
              "      <td>2313</td>\n",
              "      <td>11.0</td>\n",
              "      <td>68.0</td>\n",
              "      <td>A</td>\n",
              "      <td>F</td>\n",
              "      <td>Midlands</td>\n",
              "      <td>Midlands</td>\n",
              "      <td>Tin</td>\n",
              "      <td>0.01</td>\n",
              "      <td>8.0</td>\n",
              "    </tr>\n",
              "    <tr>\n",
              "      <th>5</th>\n",
              "      <td>2771</td>\n",
              "      <td>9.0</td>\n",
              "      <td>72.0</td>\n",
              "      <td>D</td>\n",
              "      <td>U</td>\n",
              "      <td>North</td>\n",
              "      <td>N West</td>\n",
              "      <td>Platinum</td>\n",
              "      <td>20759.81</td>\n",
              "      <td>3.0</td>\n",
              "    </tr>\n",
              "    <tr>\n",
              "      <th>6</th>\n",
              "      <td>3131</td>\n",
              "      <td>11.0</td>\n",
              "      <td>74.0</td>\n",
              "      <td>A</td>\n",
              "      <td>F</td>\n",
              "      <td>Midlands</td>\n",
              "      <td>East</td>\n",
              "      <td>Tin</td>\n",
              "      <td>0.01</td>\n",
              "      <td>8.0</td>\n",
              "    </tr>\n",
              "    <tr>\n",
              "      <th>7</th>\n",
              "      <td>3328</td>\n",
              "      <td>13.0</td>\n",
              "      <td>62.0</td>\n",
              "      <td>D</td>\n",
              "      <td>M</td>\n",
              "      <td>North</td>\n",
              "      <td>N East</td>\n",
              "      <td>Tin</td>\n",
              "      <td>0.01</td>\n",
              "      <td>5.0</td>\n",
              "    </tr>\n",
              "    <tr>\n",
              "      <th>8</th>\n",
              "      <td>4529</td>\n",
              "      <td>10.0</td>\n",
              "      <td>62.0</td>\n",
              "      <td>F</td>\n",
              "      <td>M</td>\n",
              "      <td>Midlands</td>\n",
              "      <td>East</td>\n",
              "      <td>Silver</td>\n",
              "      <td>2038.76</td>\n",
              "      <td>3.0</td>\n",
              "    </tr>\n",
              "    <tr>\n",
              "      <th>9</th>\n",
              "      <td>5886</td>\n",
              "      <td>14.0</td>\n",
              "      <td>43.0</td>\n",
              "      <td>F</td>\n",
              "      <td>F</td>\n",
              "      <td>NaN</td>\n",
              "      <td>NaN</td>\n",
              "      <td>Gold</td>\n",
              "      <td>6000.00</td>\n",
              "      <td>1.0</td>\n",
              "    </tr>\n",
              "  </tbody>\n",
              "</table>\n",
              "</div>\n",
              "      <button class=\"colab-df-convert\" onclick=\"convertToInteractive('df-ee12bd57-1d4b-4823-92f3-7a27745462b8')\"\n",
              "              title=\"Convert this dataframe to an interactive table.\"\n",
              "              style=\"display:none;\">\n",
              "\n",
              "  <svg xmlns=\"http://www.w3.org/2000/svg\" height=\"24px\"viewBox=\"0 0 24 24\"\n",
              "       width=\"24px\">\n",
              "    <path d=\"M0 0h24v24H0V0z\" fill=\"none\"/>\n",
              "    <path d=\"M18.56 5.44l.94 2.06.94-2.06 2.06-.94-2.06-.94-.94-2.06-.94 2.06-2.06.94zm-11 1L8.5 8.5l.94-2.06 2.06-.94-2.06-.94L8.5 2.5l-.94 2.06-2.06.94zm10 10l.94 2.06.94-2.06 2.06-.94-2.06-.94-.94-2.06-.94 2.06-2.06.94z\"/><path d=\"M17.41 7.96l-1.37-1.37c-.4-.4-.92-.59-1.43-.59-.52 0-1.04.2-1.43.59L10.3 9.45l-7.72 7.72c-.78.78-.78 2.05 0 2.83L4 21.41c.39.39.9.59 1.41.59.51 0 1.02-.2 1.41-.59l7.78-7.78 2.81-2.81c.8-.78.8-2.07 0-2.86zM5.41 20L4 18.59l7.72-7.72 1.47 1.35L5.41 20z\"/>\n",
              "  </svg>\n",
              "      </button>\n",
              "\n",
              "\n",
              "\n",
              "    <div id=\"df-e3e0ec08-805a-4a04-b000-e7d75f98da11\">\n",
              "      <button class=\"colab-df-quickchart\" onclick=\"quickchart('df-e3e0ec08-805a-4a04-b000-e7d75f98da11')\"\n",
              "              title=\"Suggest charts.\"\n",
              "              style=\"display:none;\">\n",
              "\n",
              "<svg xmlns=\"http://www.w3.org/2000/svg\" height=\"24px\"viewBox=\"0 0 24 24\"\n",
              "     width=\"24px\">\n",
              "    <g>\n",
              "        <path d=\"M19 3H5c-1.1 0-2 .9-2 2v14c0 1.1.9 2 2 2h14c1.1 0 2-.9 2-2V5c0-1.1-.9-2-2-2zM9 17H7v-7h2v7zm4 0h-2V7h2v10zm4 0h-2v-4h2v4z\"/>\n",
              "    </g>\n",
              "</svg>\n",
              "      </button>\n",
              "    </div>\n",
              "\n",
              "<style>\n",
              "  .colab-df-quickchart {\n",
              "    background-color: #E8F0FE;\n",
              "    border: none;\n",
              "    border-radius: 50%;\n",
              "    cursor: pointer;\n",
              "    display: none;\n",
              "    fill: #1967D2;\n",
              "    height: 32px;\n",
              "    padding: 0 0 0 0;\n",
              "    width: 32px;\n",
              "  }\n",
              "\n",
              "  .colab-df-quickchart:hover {\n",
              "    background-color: #E2EBFA;\n",
              "    box-shadow: 0px 1px 2px rgba(60, 64, 67, 0.3), 0px 1px 3px 1px rgba(60, 64, 67, 0.15);\n",
              "    fill: #174EA6;\n",
              "  }\n",
              "\n",
              "  [theme=dark] .colab-df-quickchart {\n",
              "    background-color: #3B4455;\n",
              "    fill: #D2E3FC;\n",
              "  }\n",
              "\n",
              "  [theme=dark] .colab-df-quickchart:hover {\n",
              "    background-color: #434B5C;\n",
              "    box-shadow: 0px 1px 3px 1px rgba(0, 0, 0, 0.15);\n",
              "    filter: drop-shadow(0px 1px 2px rgba(0, 0, 0, 0.3));\n",
              "    fill: #FFFFFF;\n",
              "  }\n",
              "</style>\n",
              "\n",
              "    <script>\n",
              "      async function quickchart(key) {\n",
              "        const containerElement = document.querySelector('#' + key);\n",
              "        const charts = await google.colab.kernel.invokeFunction(\n",
              "            'suggestCharts', [key], {});\n",
              "      }\n",
              "    </script>\n",
              "\n",
              "      <script>\n",
              "\n",
              "function displayQuickchartButton(domScope) {\n",
              "  let quickchartButtonEl =\n",
              "    domScope.querySelector('#df-e3e0ec08-805a-4a04-b000-e7d75f98da11 button.colab-df-quickchart');\n",
              "  quickchartButtonEl.style.display =\n",
              "    google.colab.kernel.accessAllowed ? 'block' : 'none';\n",
              "}\n",
              "\n",
              "        displayQuickchartButton(document);\n",
              "      </script>\n",
              "      <style>\n",
              "    .colab-df-container {\n",
              "      display:flex;\n",
              "      flex-wrap:wrap;\n",
              "      gap: 12px;\n",
              "    }\n",
              "\n",
              "    .colab-df-convert {\n",
              "      background-color: #E8F0FE;\n",
              "      border: none;\n",
              "      border-radius: 50%;\n",
              "      cursor: pointer;\n",
              "      display: none;\n",
              "      fill: #1967D2;\n",
              "      height: 32px;\n",
              "      padding: 0 0 0 0;\n",
              "      width: 32px;\n",
              "    }\n",
              "\n",
              "    .colab-df-convert:hover {\n",
              "      background-color: #E2EBFA;\n",
              "      box-shadow: 0px 1px 2px rgba(60, 64, 67, 0.3), 0px 1px 3px 1px rgba(60, 64, 67, 0.15);\n",
              "      fill: #174EA6;\n",
              "    }\n",
              "\n",
              "    [theme=dark] .colab-df-convert {\n",
              "      background-color: #3B4455;\n",
              "      fill: #D2E3FC;\n",
              "    }\n",
              "\n",
              "    [theme=dark] .colab-df-convert:hover {\n",
              "      background-color: #434B5C;\n",
              "      box-shadow: 0px 1px 3px 1px rgba(0, 0, 0, 0.15);\n",
              "      filter: drop-shadow(0px 1px 2px rgba(0, 0, 0, 0.3));\n",
              "      fill: #FFFFFF;\n",
              "    }\n",
              "  </style>\n",
              "\n",
              "      <script>\n",
              "        const buttonEl =\n",
              "          document.querySelector('#df-ee12bd57-1d4b-4823-92f3-7a27745462b8 button.colab-df-convert');\n",
              "        buttonEl.style.display =\n",
              "          google.colab.kernel.accessAllowed ? 'block' : 'none';\n",
              "\n",
              "        async function convertToInteractive(key) {\n",
              "          const element = document.querySelector('#df-ee12bd57-1d4b-4823-92f3-7a27745462b8');\n",
              "          const dataTable =\n",
              "            await google.colab.kernel.invokeFunction('convertToInteractive',\n",
              "                                                     [key], {});\n",
              "          if (!dataTable) return;\n",
              "\n",
              "          const docLinkHtml = 'Like what you see? Visit the ' +\n",
              "            '<a target=\"_blank\" href=https://colab.research.google.com/notebooks/data_table.ipynb>data table notebook</a>'\n",
              "            + ' to learn more about interactive tables.';\n",
              "          element.innerHTML = '';\n",
              "          dataTable['output_type'] = 'display_data';\n",
              "          await google.colab.output.renderOutput(dataTable, element);\n",
              "          const docLink = document.createElement('div');\n",
              "          docLink.innerHTML = docLinkHtml;\n",
              "          element.appendChild(docLink);\n",
              "        }\n",
              "      </script>\n",
              "    </div>\n",
              "  </div>\n"
            ]
          },
          "metadata": {},
          "execution_count": 6
        }
      ]
    },
    {
      "cell_type": "markdown",
      "metadata": {
        "id": "Y0-pdNzIUF2o"
      },
      "source": [
        "### Data preparation"
      ]
    },
    {
      "cell_type": "code",
      "execution_count": null,
      "metadata": {
        "colab": {
          "base_uri": "https://localhost:8080/"
        },
        "id": "mUTczjGsZTig",
        "outputId": "059ece62-6cc3-45ce-cf57-7409e3bff10f"
      },
      "outputs": [
        {
          "data": {
            "text/plain": [
              "ID                   0\n",
              "DemAffl             48\n",
              "DemAge              67\n",
              "DemClusterGroup     28\n",
              "DemGender          114\n",
              "DemReg              18\n",
              "DemTVReg            18\n",
              "LoyalClass           0\n",
              "LoyalSpend           0\n",
              "LoyalTime           15\n",
              "dtype: int64"
            ]
          },
          "execution_count": 17,
          "metadata": {},
          "output_type": "execute_result"
        }
      ],
      "source": [
        "# explore missing values\n",
        "dataset.isna().sum()"
      ]
    },
    {
      "cell_type": "code",
      "execution_count": null,
      "metadata": {
        "id": "_OOyTXPWZTmI"
      },
      "outputs": [],
      "source": [
        "# filling missing values with mean/mode*\n",
        "dataset['DemAffl']=dataset['DemAffl'].fillna(dataset['DemAffl'].mode()[0])\n",
        "dataset['DemAge']=dataset['DemAge'].fillna(dataset['DemAge'].mode()[0])\n",
        "dataset['DemClusterGroup']=dataset['DemClusterGroup'].fillna(dataset['DemClusterGroup'].mode()[0])\n",
        "dataset['DemGender']=dataset['DemGender'].fillna(dataset['DemGender'].mode()[0])\n",
        "dataset['DemReg']=dataset['DemReg'].fillna(dataset['DemReg'].mode()[0])\n",
        "dataset['DemTVReg']=dataset['DemTVReg'].fillna(dataset['DemTVReg'].mode()[0])\n",
        "dataset['LoyalTime']=dataset['LoyalTime'].fillna(dataset['LoyalTime'].mean())"
      ]
    },
    {
      "cell_type": "code",
      "execution_count": null,
      "metadata": {
        "colab": {
          "base_uri": "https://localhost:8080/"
        },
        "id": "IWLdRHv7ZbZW",
        "outputId": "dcec770c-7a12-4a0a-c622-c77de8cc7270"
      },
      "outputs": [
        {
          "data": {
            "text/plain": [
              "ID                 0\n",
              "DemAffl            0\n",
              "DemAge             0\n",
              "DemClusterGroup    0\n",
              "DemGender          0\n",
              "DemReg             0\n",
              "DemTVReg           0\n",
              "LoyalClass         0\n",
              "LoyalSpend         0\n",
              "LoyalTime          0\n",
              "dtype: int64"
            ]
          },
          "execution_count": 19,
          "metadata": {},
          "output_type": "execute_result"
        }
      ],
      "source": [
        "# explore missing values post missing value fix\n",
        "dataset.isna().sum()"
      ]
    },
    {
      "cell_type": "markdown",
      "metadata": {
        "id": "H4yAq0Ze54D2"
      },
      "source": [
        "### Coverting category to numeric"
      ]
    },
    {
      "cell_type": "code",
      "execution_count": null,
      "metadata": {
        "colab": {
          "base_uri": "https://localhost:8080/"
        },
        "id": "5AjdIX3purTG",
        "outputId": "9043c07c-8d8c-4c39-e7e9-2316d53603d2"
      },
      "outputs": [
        {
          "name": "stdout",
          "output_type": "stream",
          "text": [
            "{'A': 0, 'B': 1, 'C': 2, 'D': 3, 'E': 4, 'F': 5, 'U': 6}\n",
            "{'F': 0, 'M': 1, 'U': 2}\n",
            "{'Midlands': 0, 'North': 1, 'Scottish': 2, 'South East': 3, 'South West': 4}\n",
            "{'Border': 0, 'C Scotland': 1, 'East': 2, 'London': 3, 'Midlands': 4, 'N East': 5, 'N Scot': 6, 'N West': 7, 'S & S East': 8, 'S West': 9, 'Ulster': 10, 'Wales & West': 11, 'Yorkshire': 12}\n",
            "{'Gold': 0, 'Platinum': 1, 'Silver': 2, 'Tin': 3}\n"
          ]
        }
      ],
      "source": [
        "# converting to mumeric\n",
        "from sklearn.preprocessing import LabelEncoder\n",
        "number = LabelEncoder()\n",
        "\n",
        "dataset['DemClusterGroup'] = number.fit_transform(dataset['DemClusterGroup'].astype('str'))\n",
        "integer_mapping = {l: i for i, l in enumerate(number.classes_)}\n",
        "print(integer_mapping)\n",
        "\n",
        "dataset['DemGender'] = number.fit_transform(dataset['DemGender'].astype('str'))\n",
        "integer_mapping = {l: i for i, l in enumerate(number.classes_)}\n",
        "print(integer_mapping)\n",
        "\n",
        "dataset['DemReg'] = number.fit_transform(dataset['DemReg'].astype('str'))\n",
        "integer_mapping = {l: i for i, l in enumerate(number.classes_)}\n",
        "print(integer_mapping)\n",
        "\n",
        "dataset['DemTVReg'] = number.fit_transform(dataset['DemTVReg'].astype('str'))\n",
        "integer_mapping = {l: i for i, l in enumerate(number.classes_)}\n",
        "print(integer_mapping)\n",
        "\n",
        "dataset['LoyalClass'] = number.fit_transform(dataset['LoyalClass'].astype('str'))\n",
        "integer_mapping = {l: i for i, l in enumerate(number.classes_)}\n",
        "print(integer_mapping)"
      ]
    },
    {
      "cell_type": "code",
      "execution_count": null,
      "metadata": {
        "colab": {
          "base_uri": "https://localhost:8080/",
          "height": 206
        },
        "id": "hZk_8a5sR9pr",
        "outputId": "1bd26ccb-0adc-49f2-aea7-d925b89f5095"
      },
      "outputs": [
        {
          "data": {
            "text/html": [
              "<div>\n",
              "<style scoped>\n",
              "    .dataframe tbody tr th:only-of-type {\n",
              "        vertical-align: middle;\n",
              "    }\n",
              "\n",
              "    .dataframe tbody tr th {\n",
              "        vertical-align: top;\n",
              "    }\n",
              "\n",
              "    .dataframe thead th {\n",
              "        text-align: right;\n",
              "    }\n",
              "</style>\n",
              "<table border=\"1\" class=\"dataframe\">\n",
              "  <thead>\n",
              "    <tr style=\"text-align: right;\">\n",
              "      <th></th>\n",
              "      <th>ID</th>\n",
              "      <th>DemAffl</th>\n",
              "      <th>DemAge</th>\n",
              "      <th>DemClusterGroup</th>\n",
              "      <th>DemGender</th>\n",
              "      <th>DemReg</th>\n",
              "      <th>DemTVReg</th>\n",
              "      <th>LoyalClass</th>\n",
              "      <th>LoyalSpend</th>\n",
              "      <th>LoyalTime</th>\n",
              "    </tr>\n",
              "  </thead>\n",
              "  <tbody>\n",
              "    <tr>\n",
              "      <th>0</th>\n",
              "      <td>140</td>\n",
              "      <td>10.0</td>\n",
              "      <td>76.0</td>\n",
              "      <td>2</td>\n",
              "      <td>2</td>\n",
              "      <td>0</td>\n",
              "      <td>11</td>\n",
              "      <td>0</td>\n",
              "      <td>16000.00</td>\n",
              "      <td>4.0</td>\n",
              "    </tr>\n",
              "    <tr>\n",
              "      <th>1</th>\n",
              "      <td>620</td>\n",
              "      <td>4.0</td>\n",
              "      <td>49.0</td>\n",
              "      <td>3</td>\n",
              "      <td>2</td>\n",
              "      <td>0</td>\n",
              "      <td>11</td>\n",
              "      <td>0</td>\n",
              "      <td>6000.00</td>\n",
              "      <td>5.0</td>\n",
              "    </tr>\n",
              "    <tr>\n",
              "      <th>2</th>\n",
              "      <td>868</td>\n",
              "      <td>5.0</td>\n",
              "      <td>70.0</td>\n",
              "      <td>3</td>\n",
              "      <td>0</td>\n",
              "      <td>0</td>\n",
              "      <td>11</td>\n",
              "      <td>2</td>\n",
              "      <td>0.02</td>\n",
              "      <td>8.0</td>\n",
              "    </tr>\n",
              "    <tr>\n",
              "      <th>3</th>\n",
              "      <td>1120</td>\n",
              "      <td>10.0</td>\n",
              "      <td>65.0</td>\n",
              "      <td>5</td>\n",
              "      <td>1</td>\n",
              "      <td>0</td>\n",
              "      <td>4</td>\n",
              "      <td>3</td>\n",
              "      <td>0.01</td>\n",
              "      <td>7.0</td>\n",
              "    </tr>\n",
              "    <tr>\n",
              "      <th>4</th>\n",
              "      <td>2313</td>\n",
              "      <td>11.0</td>\n",
              "      <td>68.0</td>\n",
              "      <td>0</td>\n",
              "      <td>0</td>\n",
              "      <td>0</td>\n",
              "      <td>4</td>\n",
              "      <td>3</td>\n",
              "      <td>0.01</td>\n",
              "      <td>8.0</td>\n",
              "    </tr>\n",
              "  </tbody>\n",
              "</table>\n",
              "</div>"
            ],
            "text/plain": [
              "     ID  DemAffl  DemAge  DemClusterGroup  DemGender  DemReg  DemTVReg  \\\n",
              "0   140     10.0    76.0                2          2       0        11   \n",
              "1   620      4.0    49.0                3          2       0        11   \n",
              "2   868      5.0    70.0                3          0       0        11   \n",
              "3  1120     10.0    65.0                5          1       0         4   \n",
              "4  2313     11.0    68.0                0          0       0         4   \n",
              "\n",
              "   LoyalClass  LoyalSpend  LoyalTime  \n",
              "0           0    16000.00        4.0  \n",
              "1           0     6000.00        5.0  \n",
              "2           2        0.02        8.0  \n",
              "3           3        0.01        7.0  \n",
              "4           3        0.01        8.0  "
            ]
          },
          "execution_count": 8,
          "metadata": {},
          "output_type": "execute_result"
        }
      ],
      "source": [
        "dataset.head()"
      ]
    },
    {
      "cell_type": "markdown",
      "metadata": {
        "id": "QHOSDHEATpyW"
      },
      "source": [
        "### Predictions"
      ]
    },
    {
      "cell_type": "code",
      "execution_count": null,
      "metadata": {
        "id": "NpVPWlOYZbha"
      },
      "outputs": [],
      "source": [
        "X_fresh = dataset.iloc[:, 1:10].values"
      ]
    },
    {
      "cell_type": "code",
      "execution_count": null,
      "metadata": {
        "id": "JlbdxylHZhCp"
      },
      "outputs": [],
      "source": [
        "import joblib\n",
        "classifier = joblib.load('Classifier_LoyalCustomers')"
      ]
    },
    {
      "cell_type": "code",
      "execution_count": null,
      "metadata": {
        "colab": {
          "base_uri": "https://localhost:8080/"
        },
        "id": "w-EcXl1aZhHO",
        "outputId": "277e5944-d184-48d3-8dbd-7268648cd6e5"
      },
      "outputs": [
        {
          "name": "stdout",
          "output_type": "stream",
          "text": [
            "[0 0 0 0 0 0 0 0 0 1 0 0 1 0 1 0 0 1 0 0 0 0 0 0 0 1 0 0 0 0 0 1 0 0 0 0 1\n",
            " 0 1 0 0 1 0 0 1 1 0 0 0 0 0 1 0 0 0 0 1 1 1 0 0 1 0 1 1 0 0 1 0 1 0 0 0 0\n",
            " 0 1 0 0 1 0 0 0 0 1 1 1 0 0 0 0 0 1 1 1 0 1 0 0 0 0 0 0 0 0 1 0 0 0 0 0 1\n",
            " 0 0 0 0 1 0 0 0 1 0 0 0 0 1 0 0 0 1 1 0 0 1 0 1 1 0 0 0 0 1 1 0 1 0 0 1 1\n",
            " 0 0 0 0 0 0 0 0 0 0 0 1 0 1 0 0 1 0 0 0 0 0 1 1 0 0 0 1 0 0 1 0 0 1 0 0 1\n",
            " 1 0 0 0 0 1 0 1 0 1 1 0 0 0 1 1 1 1 0 0 0 0 0 1 0 1 0 0 0 1 1 0 0 1 0 0 0\n",
            " 1 1 0 0 0 1 1 1 0 0 0 1 0 1 0 0 0 0 1 1 0 0 0 1 0 0 0 0 0 0 0 0 1 0 0 0 0\n",
            " 0 0 1 0 1 0 1 1 1 0 1 1 0 1 0 1 1 0 0 0 1 1 1 0 0 0 0 1 0 1 0 0 0 1 0 0 0\n",
            " 1 1 0 1 0 1 0 1 1 0 0 0 1 0 1 1 1 1 0 0 1 0 0 0 0 1 0 0 0 1 0 1 0 1 0 0 1\n",
            " 0 0 1 0 0 0 0 0 0 0 1 0 0 0 1 1 0 0 0 0 1 1 1 0 1 1 0 1 1 0 0 0 1 0 0 0 1\n",
            " 1 0 1 0 0 0 0 1 1 0 1 0 1 0 0 1 0 0 0 1 0 0 1 1 1 0 1 0 0 0 0 0 0 1 0 0 1\n",
            " 1 1 0 0 1 0 1 0 1 0 1 0 1 0 0 0 1 1 1 0 0 0 0 0 0 0 1 0 0 1 0 0 0 0 1 0 1\n",
            " 0 0 0 0 0 1 0 1 0 0 0 1 0 0 0 0 1 1 0 0 0 0 0 0 0 0 0 0 0 1 1 1 1 0 1 0 0\n",
            " 1 0 0 0 1 0 1 0 0 0 0 1 0 0 0 0 0 0 0 0 1 0 1 1 1 1 0 0 0 1 1 1 1 1 0 1 1\n",
            " 1 0 0 1 0 0 0 1 0 0 0 0 1 0 0 1 0 0 0 1 0 0 0 0 1 1 1 1 0 0 0 1 0 1 0 1 0\n",
            " 0 0 1 0 0 0 1 0 1 1 1 1 1 1 1 0 1 1 1 0 1 0 1 1 1 1 1 1 1 1 0 1 1 1 0 0 0\n",
            " 1 0 1 0 1 0 1 1 1 1 1 1 1 0 1 0 1 1 0 0 1 1 1 0 1 0 0 0 0 0 0 1 0 0 1 0 0\n",
            " 0 0 0 0 0 0 0 0 1 1 1 0 1 1 0 0 1 1 0 0 1 1 1 0 0 1 0 1 1 0 0 1 0 1 0 0 0\n",
            " 0 0 0 0 0 1 0 1 0 0 0 0 0 0 1 0 1 1 1 0 1 0 1 1 0 0 0 0 1 1 1 1 0 0 1 1 0\n",
            " 0 0 0 0 1 1 0 1 1 0 1 0 0 0 1 1 0 0 1 0 1 0 0 0 1 0 1 1 0 0 0 0 1 0 0 0 0\n",
            " 0 1 1 0 1 1 0 0 0 0 0 1 0 0 0 0 0 1 0 1 1 0 1 0 0 0 0 1 0 0 0 0 0 1 0 0 0\n",
            " 0 0 0 0 0 0 0 1 1 1 0 1 0 0 0 0 0 1 1 1 1 0 0 1 0 0 0 1 0 1 0 0 0 1 0 1 0\n",
            " 0 0 1 1 0 0 0 0 0 1 1 1 0 1 0 1 0 0 0 0 1 1 1 1 0 0 0 1 1 0 0 0 0 0 1 1 0\n",
            " 0 1 1 1 0 0 0 1 0 0 0 0 0 0 0 0 0 0 1 0 1 1 1 1 1 0 0 0 0 0 0 0 0 0 0 0 0\n",
            " 1 0 0 1 0 0 0 1 0 1 1 0 1 0 0 1 1 0 1 1 0 1 1 0 0 0 1 0 1 0 1 0 0 1 0 1 0\n",
            " 0 0 1 0 1 1 1 1 0 1 0 1 1 1 0 1 1 0 0 0 0 0 0 1 1 1 0 0 1 0 0 0 1 1 1 1 1\n",
            " 1 1 1 0 0 0 1 1 0 0 1 0 0 1 1 0 0 1 1 1 1 0 1 0 0 1 0 1 1 0 0 1 0 0 0 0 1]\n"
          ]
        }
      ],
      "source": [
        "y_pred = classifier.predict(X_fresh)\n",
        "print(y_pred)"
      ]
    },
    {
      "cell_type": "code",
      "execution_count": null,
      "metadata": {
        "colab": {
          "base_uri": "https://localhost:8080/"
        },
        "id": "98nc3bUPZhcZ",
        "outputId": "833ba164-1dce-457b-8c55-f540c346ff56"
      },
      "outputs": [
        {
          "data": {
            "text/plain": [
              "array([[0.93135863, 0.06864137],\n",
              "       [0.94965658, 0.05034342],\n",
              "       [0.85799302, 0.14200698],\n",
              "       ...,\n",
              "       [0.89973423, 0.10026577],\n",
              "       [0.5373322 , 0.4626678 ],\n",
              "       [0.24486861, 0.75513139]])"
            ]
          },
          "execution_count": 12,
          "metadata": {},
          "output_type": "execute_result"
        }
      ],
      "source": [
        "predictions = classifier.predict_proba(X_fresh)\n",
        "predictions"
      ]
    },
    {
      "cell_type": "code",
      "execution_count": null,
      "metadata": {
        "colab": {
          "base_uri": "https://localhost:8080/",
          "height": 206
        },
        "id": "UA7u-NQIZtGY",
        "outputId": "53ce0df2-356d-43bb-c1e7-d8a2dd217bd2"
      },
      "outputs": [
        {
          "data": {
            "text/html": [
              "<div>\n",
              "<style scoped>\n",
              "    .dataframe tbody tr th:only-of-type {\n",
              "        vertical-align: middle;\n",
              "    }\n",
              "\n",
              "    .dataframe tbody tr th {\n",
              "        vertical-align: top;\n",
              "    }\n",
              "\n",
              "    .dataframe thead th {\n",
              "        text-align: right;\n",
              "    }\n",
              "</style>\n",
              "<table border=\"1\" class=\"dataframe\">\n",
              "  <thead>\n",
              "    <tr style=\"text-align: right;\">\n",
              "      <th></th>\n",
              "      <th>ID</th>\n",
              "      <th>DemAffl</th>\n",
              "      <th>DemAge</th>\n",
              "      <th>DemClusterGroup</th>\n",
              "      <th>DemGender</th>\n",
              "      <th>DemReg</th>\n",
              "      <th>DemTVReg</th>\n",
              "      <th>LoyalClass</th>\n",
              "      <th>LoyalSpend</th>\n",
              "      <th>LoyalTime</th>\n",
              "      <th>prob_0</th>\n",
              "      <th>prob_1</th>\n",
              "    </tr>\n",
              "  </thead>\n",
              "  <tbody>\n",
              "    <tr>\n",
              "      <th>0</th>\n",
              "      <td>140</td>\n",
              "      <td>10.0</td>\n",
              "      <td>76.0</td>\n",
              "      <td>2</td>\n",
              "      <td>2</td>\n",
              "      <td>0</td>\n",
              "      <td>11</td>\n",
              "      <td>0</td>\n",
              "      <td>16000.00</td>\n",
              "      <td>4.0</td>\n",
              "      <td>0.931359</td>\n",
              "      <td>0.068641</td>\n",
              "    </tr>\n",
              "    <tr>\n",
              "      <th>1</th>\n",
              "      <td>620</td>\n",
              "      <td>4.0</td>\n",
              "      <td>49.0</td>\n",
              "      <td>3</td>\n",
              "      <td>2</td>\n",
              "      <td>0</td>\n",
              "      <td>11</td>\n",
              "      <td>0</td>\n",
              "      <td>6000.00</td>\n",
              "      <td>5.0</td>\n",
              "      <td>0.949657</td>\n",
              "      <td>0.050343</td>\n",
              "    </tr>\n",
              "    <tr>\n",
              "      <th>2</th>\n",
              "      <td>868</td>\n",
              "      <td>5.0</td>\n",
              "      <td>70.0</td>\n",
              "      <td>3</td>\n",
              "      <td>0</td>\n",
              "      <td>0</td>\n",
              "      <td>11</td>\n",
              "      <td>2</td>\n",
              "      <td>0.02</td>\n",
              "      <td>8.0</td>\n",
              "      <td>0.857993</td>\n",
              "      <td>0.142007</td>\n",
              "    </tr>\n",
              "    <tr>\n",
              "      <th>3</th>\n",
              "      <td>1120</td>\n",
              "      <td>10.0</td>\n",
              "      <td>65.0</td>\n",
              "      <td>5</td>\n",
              "      <td>1</td>\n",
              "      <td>0</td>\n",
              "      <td>4</td>\n",
              "      <td>3</td>\n",
              "      <td>0.01</td>\n",
              "      <td>7.0</td>\n",
              "      <td>0.726832</td>\n",
              "      <td>0.273168</td>\n",
              "    </tr>\n",
              "    <tr>\n",
              "      <th>4</th>\n",
              "      <td>2313</td>\n",
              "      <td>11.0</td>\n",
              "      <td>68.0</td>\n",
              "      <td>0</td>\n",
              "      <td>0</td>\n",
              "      <td>0</td>\n",
              "      <td>4</td>\n",
              "      <td>3</td>\n",
              "      <td>0.01</td>\n",
              "      <td>8.0</td>\n",
              "      <td>0.533012</td>\n",
              "      <td>0.466988</td>\n",
              "    </tr>\n",
              "  </tbody>\n",
              "</table>\n",
              "</div>"
            ],
            "text/plain": [
              "     ID  DemAffl  DemAge  DemClusterGroup  DemGender  DemReg  DemTVReg  \\\n",
              "0   140     10.0    76.0                2          2       0        11   \n",
              "1   620      4.0    49.0                3          2       0        11   \n",
              "2   868      5.0    70.0                3          0       0        11   \n",
              "3  1120     10.0    65.0                5          1       0         4   \n",
              "4  2313     11.0    68.0                0          0       0         4   \n",
              "\n",
              "   LoyalClass  LoyalSpend  LoyalTime    prob_0    prob_1  \n",
              "0           0    16000.00        4.0  0.931359  0.068641  \n",
              "1           0     6000.00        5.0  0.949657  0.050343  \n",
              "2           2        0.02        8.0  0.857993  0.142007  \n",
              "3           3        0.01        7.0  0.726832  0.273168  \n",
              "4           3        0.01        8.0  0.533012  0.466988  "
            ]
          },
          "execution_count": 13,
          "metadata": {},
          "output_type": "execute_result"
        }
      ],
      "source": [
        "# writing model output file\n",
        "df_prediction_prob = pd.DataFrame(predictions, columns = ['prob_0', 'prob_1'])\n",
        "dfx=pd.concat([dataset,df_prediction_prob], axis=1)\n",
        "dfx.to_excel(\"BuyProb_tochange.xlsx\")\n",
        "dfx.head()"
      ]
    },
    {
      "cell_type": "code",
      "execution_count": null,
      "metadata": {
        "id": "dXPc8-_5wg0o"
      },
      "outputs": [],
      "source": []
    }
  ],
  "metadata": {
    "colab": {
      "provenance": [],
      "include_colab_link": true
    },
    "kernelspec": {
      "display_name": "Python 3 (ipykernel)",
      "language": "python",
      "name": "python3"
    },
    "language_info": {
      "codemirror_mode": {
        "name": "ipython",
        "version": 3
      },
      "file_extension": ".py",
      "mimetype": "text/x-python",
      "name": "python",
      "nbconvert_exporter": "python",
      "pygments_lexer": "ipython3",
      "version": "3.9.7"
    }
  },
  "nbformat": 4,
  "nbformat_minor": 0
}